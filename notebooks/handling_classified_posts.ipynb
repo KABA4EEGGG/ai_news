{
 "cells": [
  {
   "cell_type": "markdown",
   "metadata": {},
   "source": [
    "# Посмотрим на результат расчитанных меток\n"
   ]
  },
  {
   "cell_type": "code",
   "execution_count": 19,
   "metadata": {},
   "outputs": [],
   "source": [
    "# TODO: \n",
    "# посмотреть на записи, которые не поличилось классифировать\n",
    "# провести анализ каждого класса"
   ]
  },
  {
   "cell_type": "code",
   "execution_count": 113,
   "metadata": {},
   "outputs": [
    {
     "name": "stderr",
     "output_type": "stream",
     "text": [
      "C:\\Users\\sayan\\AppData\\Local\\Temp\\ipykernel_23612\\1328363775.py:3: ParserWarning: Falling back to the 'python' engine because the 'c' engine does not support regex separators (separators > 1 char and different from '\\s+' are interpreted as regex); you can avoid this warning by specifying engine='python'.\n",
      "  df = pd.read_csv('../data/labels.csv', encoding='cp1251', sep='/n', header=None)\n"
     ]
    },
    {
     "data": {
      "text/html": [
       "<div>\n",
       "<style scoped>\n",
       "    .dataframe tbody tr th:only-of-type {\n",
       "        vertical-align: middle;\n",
       "    }\n",
       "\n",
       "    .dataframe tbody tr th {\n",
       "        vertical-align: top;\n",
       "    }\n",
       "\n",
       "    .dataframe thead th {\n",
       "        text-align: right;\n",
       "    }\n",
       "</style>\n",
       "<table border=\"1\" class=\"dataframe\">\n",
       "  <thead>\n",
       "    <tr style=\"text-align: right;\">\n",
       "      <th></th>\n",
       "      <th>0</th>\n",
       "    </tr>\n",
       "  </thead>\n",
       "  <tbody>\n",
       "    <tr>\n",
       "      <th>0</th>\n",
       "      <td>П,о,л,и,т,и,к,а</td>\n",
       "    </tr>\n",
       "    <tr>\n",
       "      <th>1</th>\n",
       "      <td>Ф,и,н,а,н,с,ы</td>\n",
       "    </tr>\n",
       "    <tr>\n",
       "      <th>2</th>\n",
       "      <td>П,о,л,и,т,и,к,а</td>\n",
       "    </tr>\n",
       "    <tr>\n",
       "      <th>3</th>\n",
       "      <td>О,б,р,а,з,о,в,а,т,е,л,ь,н,ы,й, ,к,о,н,т,е,н,т</td>\n",
       "    </tr>\n",
       "    <tr>\n",
       "      <th>4</th>\n",
       "      <td>Т,е,х,н,о,л,о,г,и,и</td>\n",
       "    </tr>\n",
       "    <tr>\n",
       "      <th>...</th>\n",
       "      <td>...</td>\n",
       "    </tr>\n",
       "    <tr>\n",
       "      <th>151526</th>\n",
       "      <td>Т,е,х,н,о,л,о,г,и,и</td>\n",
       "    </tr>\n",
       "    <tr>\n",
       "      <th>151527</th>\n",
       "      <td>Т,е,х,н,о,л,о,г,и,и</td>\n",
       "    </tr>\n",
       "    <tr>\n",
       "      <th>151528</th>\n",
       "      <td>Т,е,х,н,о,л,о,г,и,и</td>\n",
       "    </tr>\n",
       "    <tr>\n",
       "      <th>151529</th>\n",
       "      <td>Т,е,х,н,о,л,о,г,и,и</td>\n",
       "    </tr>\n",
       "    <tr>\n",
       "      <th>151530</th>\n",
       "      <td>Р,а,з,в,л,е,ч,е,н,и,я</td>\n",
       "    </tr>\n",
       "  </tbody>\n",
       "</table>\n",
       "<p>151531 rows × 1 columns</p>\n",
       "</div>"
      ],
      "text/plain": [
       "                                                    0\n",
       "0                                     П,о,л,и,т,и,к,а\n",
       "1                                       Ф,и,н,а,н,с,ы\n",
       "2                                     П,о,л,и,т,и,к,а\n",
       "3       О,б,р,а,з,о,в,а,т,е,л,ь,н,ы,й, ,к,о,н,т,е,н,т\n",
       "4                                 Т,е,х,н,о,л,о,г,и,и\n",
       "...                                               ...\n",
       "151526                            Т,е,х,н,о,л,о,г,и,и\n",
       "151527                            Т,е,х,н,о,л,о,г,и,и\n",
       "151528                            Т,е,х,н,о,л,о,г,и,и\n",
       "151529                            Т,е,х,н,о,л,о,г,и,и\n",
       "151530                          Р,а,з,в,л,е,ч,е,н,и,я\n",
       "\n",
       "[151531 rows x 1 columns]"
      ]
     },
     "execution_count": 113,
     "metadata": {},
     "output_type": "execute_result"
    }
   ],
   "source": [
    "import pandas as pd \n",
    "\n",
    "df = pd.read_csv('../data/labels.csv', encoding='cp1251', sep='/n', header=None)\n",
    "df"
   ]
  },
  {
   "cell_type": "code",
   "execution_count": 114,
   "metadata": {},
   "outputs": [
    {
     "data": {
      "text/plain": [
       "Index([0], dtype='int64')"
      ]
     },
     "execution_count": 114,
     "metadata": {},
     "output_type": "execute_result"
    }
   ],
   "source": [
    "df.columns"
   ]
  },
  {
   "cell_type": "code",
   "execution_count": 115,
   "metadata": {},
   "outputs": [
    {
     "data": {
      "text/html": [
       "<div>\n",
       "<style scoped>\n",
       "    .dataframe tbody tr th:only-of-type {\n",
       "        vertical-align: middle;\n",
       "    }\n",
       "\n",
       "    .dataframe tbody tr th {\n",
       "        vertical-align: top;\n",
       "    }\n",
       "\n",
       "    .dataframe thead th {\n",
       "        text-align: right;\n",
       "    }\n",
       "</style>\n",
       "<table border=\"1\" class=\"dataframe\">\n",
       "  <thead>\n",
       "    <tr style=\"text-align: right;\">\n",
       "      <th></th>\n",
       "      <th>Label</th>\n",
       "    </tr>\n",
       "  </thead>\n",
       "  <tbody>\n",
       "    <tr>\n",
       "      <th>0</th>\n",
       "      <td>П,о,л,и,т,и,к,а</td>\n",
       "    </tr>\n",
       "    <tr>\n",
       "      <th>1</th>\n",
       "      <td>Ф,и,н,а,н,с,ы</td>\n",
       "    </tr>\n",
       "    <tr>\n",
       "      <th>2</th>\n",
       "      <td>П,о,л,и,т,и,к,а</td>\n",
       "    </tr>\n",
       "    <tr>\n",
       "      <th>3</th>\n",
       "      <td>О,б,р,а,з,о,в,а,т,е,л,ь,н,ы,й, ,к,о,н,т,е,н,т</td>\n",
       "    </tr>\n",
       "    <tr>\n",
       "      <th>4</th>\n",
       "      <td>Т,е,х,н,о,л,о,г,и,и</td>\n",
       "    </tr>\n",
       "    <tr>\n",
       "      <th>...</th>\n",
       "      <td>...</td>\n",
       "    </tr>\n",
       "    <tr>\n",
       "      <th>151526</th>\n",
       "      <td>Т,е,х,н,о,л,о,г,и,и</td>\n",
       "    </tr>\n",
       "    <tr>\n",
       "      <th>151527</th>\n",
       "      <td>Т,е,х,н,о,л,о,г,и,и</td>\n",
       "    </tr>\n",
       "    <tr>\n",
       "      <th>151528</th>\n",
       "      <td>Т,е,х,н,о,л,о,г,и,и</td>\n",
       "    </tr>\n",
       "    <tr>\n",
       "      <th>151529</th>\n",
       "      <td>Т,е,х,н,о,л,о,г,и,и</td>\n",
       "    </tr>\n",
       "    <tr>\n",
       "      <th>151530</th>\n",
       "      <td>Р,а,з,в,л,е,ч,е,н,и,я</td>\n",
       "    </tr>\n",
       "  </tbody>\n",
       "</table>\n",
       "<p>151531 rows × 1 columns</p>\n",
       "</div>"
      ],
      "text/plain": [
       "                                                Label\n",
       "0                                     П,о,л,и,т,и,к,а\n",
       "1                                       Ф,и,н,а,н,с,ы\n",
       "2                                     П,о,л,и,т,и,к,а\n",
       "3       О,б,р,а,з,о,в,а,т,е,л,ь,н,ы,й, ,к,о,н,т,е,н,т\n",
       "4                                 Т,е,х,н,о,л,о,г,и,и\n",
       "...                                               ...\n",
       "151526                            Т,е,х,н,о,л,о,г,и,и\n",
       "151527                            Т,е,х,н,о,л,о,г,и,и\n",
       "151528                            Т,е,х,н,о,л,о,г,и,и\n",
       "151529                            Т,е,х,н,о,л,о,г,и,и\n",
       "151530                          Р,а,з,в,л,е,ч,е,н,и,я\n",
       "\n",
       "[151531 rows x 1 columns]"
      ]
     },
     "execution_count": 115,
     "metadata": {},
     "output_type": "execute_result"
    }
   ],
   "source": [
    "df.rename(columns={0: 'Label'}, inplace=True)\n",
    "df"
   ]
  },
  {
   "cell_type": "code",
   "execution_count": 116,
   "metadata": {},
   "outputs": [
    {
     "data": {
      "text/plain": [
       "0                        Политика\n",
       "1                         Финансы\n",
       "2                        Политика\n",
       "3         Образовательный контент\n",
       "4                      Технологии\n",
       "                   ...           \n",
       "151526                 Технологии\n",
       "151527                 Технологии\n",
       "151528                 Технологии\n",
       "151529                 Технологии\n",
       "151530                Развлечения\n",
       "Name: Label, Length: 151531, dtype: object"
      ]
     },
     "execution_count": 116,
     "metadata": {},
     "output_type": "execute_result"
    }
   ],
   "source": [
    "df = df['Label'].apply(lambda x: x.replace(',', ''))\n",
    "df"
   ]
  },
  {
   "cell_type": "code",
   "execution_count": 117,
   "metadata": {},
   "outputs": [],
   "source": [
    "df.to_csv('../data/labels.csv', index=False)"
   ]
  },
  {
   "cell_type": "markdown",
   "metadata": {},
   "source": [
    "## Посмотрим записи, которые не получилось классифицировать"
   ]
  },
  {
   "cell_type": "code",
   "execution_count": 118,
   "metadata": {},
   "outputs": [
    {
     "data": {
      "text/plain": [
       "[9715, 68741, 79753, 79757, 79969, 81256, 107521]"
      ]
     },
     "execution_count": 118,
     "metadata": {},
     "output_type": "execute_result"
    }
   ],
   "source": [
    "unhandled_posts = []\n",
    "with open('../data/unhandled_posts.txt', 'r') as f:\n",
    "    for row in f.readlines():\n",
    "        row = int(row.replace('/n', ''))\n",
    "        unhandled_posts.append(row)\n",
    "unhandled_posts"
   ]
  },
  {
   "cell_type": "code",
   "execution_count": 119,
   "metadata": {},
   "outputs": [
    {
     "data": {
      "text/html": [
       "<div>\n",
       "<style scoped>\n",
       "    .dataframe tbody tr th:only-of-type {\n",
       "        vertical-align: middle;\n",
       "    }\n",
       "\n",
       "    .dataframe tbody tr th {\n",
       "        vertical-align: top;\n",
       "    }\n",
       "\n",
       "    .dataframe thead th {\n",
       "        text-align: right;\n",
       "    }\n",
       "</style>\n",
       "<table border=\"1\" class=\"dataframe\">\n",
       "  <thead>\n",
       "    <tr style=\"text-align: right;\">\n",
       "      <th></th>\n",
       "      <th>id</th>\n",
       "      <th>telegram_id</th>\n",
       "      <th>text</th>\n",
       "      <th>datetime</th>\n",
       "      <th>category_id</th>\n",
       "      <th>channel_id</th>\n",
       "      <th>title</th>\n",
       "      <th>Unnamed: 7</th>\n",
       "      <th>Unnamed: 8</th>\n",
       "      <th>Unnamed: 9</th>\n",
       "    </tr>\n",
       "  </thead>\n",
       "  <tbody>\n",
       "    <tr>\n",
       "      <th>0</th>\n",
       "      <td>1</td>\n",
       "      <td>157314</td>\n",
       "      <td>❗️Восстановление аммиакопровода Тольятти — Оде...</td>\n",
       "      <td>2023-06-07 11:40:06</td>\n",
       "      <td>NaN</td>\n",
       "      <td>-1001394050290</td>\n",
       "      <td>Восстановление аммиакопровода займет до 3 меся...</td>\n",
       "      <td>NaN</td>\n",
       "      <td>NaN</td>\n",
       "      <td>NaN</td>\n",
       "    </tr>\n",
       "    <tr>\n",
       "      <th>1</th>\n",
       "      <td>2</td>\n",
       "      <td>18940</td>\n",
       "      <td>Дополнительные 39 миллионов рублей были выделе...</td>\n",
       "      <td>2023-06-07 11:34:56</td>\n",
       "      <td>NaN</td>\n",
       "      <td>-1001098860759</td>\n",
       "      <td>Выделены дополнительные 39 млн рублей на соцуч...</td>\n",
       "      <td>NaN</td>\n",
       "      <td>NaN</td>\n",
       "      <td>NaN</td>\n",
       "    </tr>\n",
       "    <tr>\n",
       "      <th>2</th>\n",
       "      <td>3</td>\n",
       "      <td>4868</td>\n",
       "      <td>«Россия уничтожена санкциями»\\n               ...</td>\n",
       "      <td>2023-06-07 11:03:05</td>\n",
       "      <td>NaN</td>\n",
       "      <td>-1001797434593</td>\n",
       "      <td>«Россия уничтожена санкциями»\\n               ...</td>\n",
       "      <td>NaN</td>\n",
       "      <td>NaN</td>\n",
       "      <td>NaN</td>\n",
       "    </tr>\n",
       "    <tr>\n",
       "      <th>3</th>\n",
       "      <td>4</td>\n",
       "      <td>157315</td>\n",
       "      <td>❗️Правоохранители провели обыски в министерств...</td>\n",
       "      <td>2023-06-07 11:50:06</td>\n",
       "      <td>NaN</td>\n",
       "      <td>-1001394050290</td>\n",
       "      <td>Обыски в минобразования Дагестана по делу о вы...</td>\n",
       "      <td>NaN</td>\n",
       "      <td>NaN</td>\n",
       "      <td>NaN</td>\n",
       "    </tr>\n",
       "    <tr>\n",
       "      <th>4</th>\n",
       "      <td>16</td>\n",
       "      <td>157317</td>\n",
       "      <td>Реконструкция пропускного пункта \"Верхний Ларс...</td>\n",
       "      <td>2023-06-07 12:10:25</td>\n",
       "      <td>NaN</td>\n",
       "      <td>-1001394050290</td>\n",
       "      <td>Реконструкция пропускного пункта \"Верхний Ларс...</td>\n",
       "      <td>NaN</td>\n",
       "      <td>NaN</td>\n",
       "      <td>NaN</td>\n",
       "    </tr>\n",
       "  </tbody>\n",
       "</table>\n",
       "</div>"
      ],
      "text/plain": [
       "   id telegram_id                                               text  \\\n",
       "0   1      157314  ❗️Восстановление аммиакопровода Тольятти — Оде...   \n",
       "1   2       18940  Дополнительные 39 миллионов рублей были выделе...   \n",
       "2   3        4868  «Россия уничтожена санкциями»\\n               ...   \n",
       "3   4      157315  ❗️Правоохранители провели обыски в министерств...   \n",
       "4  16      157317  Реконструкция пропускного пункта \"Верхний Ларс...   \n",
       "\n",
       "              datetime category_id      channel_id  \\\n",
       "0  2023-06-07 11:40:06         NaN  -1001394050290   \n",
       "1  2023-06-07 11:34:56         NaN  -1001098860759   \n",
       "2  2023-06-07 11:03:05         NaN  -1001797434593   \n",
       "3  2023-06-07 11:50:06         NaN  -1001394050290   \n",
       "4  2023-06-07 12:10:25         NaN  -1001394050290   \n",
       "\n",
       "                                               title Unnamed: 7 Unnamed: 8  \\\n",
       "0  Восстановление аммиакопровода займет до 3 меся...        NaN        NaN   \n",
       "1  Выделены дополнительные 39 млн рублей на соцуч...        NaN        NaN   \n",
       "2  «Россия уничтожена санкциями»\\n               ...        NaN        NaN   \n",
       "3  Обыски в минобразования Дагестана по делу о вы...        NaN        NaN   \n",
       "4  Реконструкция пропускного пункта \"Верхний Ларс...        NaN        NaN   \n",
       "\n",
       "  Unnamed: 9  \n",
       "0        NaN  \n",
       "1        NaN  \n",
       "2        NaN  \n",
       "3        NaN  \n",
       "4        NaN  "
      ]
     },
     "execution_count": 119,
     "metadata": {},
     "output_type": "execute_result"
    }
   ],
   "source": [
    "posts = pd.read_excel('../data/handled_posts.xlsx')\n",
    "posts.head()"
   ]
  },
  {
   "cell_type": "code",
   "execution_count": 120,
   "metadata": {},
   "outputs": [
    {
     "data": {
      "text/plain": [
       "9715      **В начале войны Москва будто застыла. Спустя ...\n",
       "68741                                                   NaN\n",
       "79753                                                123132\n",
       "79757                                                   123\n",
       "79969                                                     2\n",
       "81256                                                     3\n",
       "107521                                                   40\n",
       "Name: text, dtype: object"
      ]
     },
     "execution_count": 120,
     "metadata": {},
     "output_type": "execute_result"
    }
   ],
   "source": [
    "posts['text'][unhandled_posts]"
   ]
  },
  {
   "cell_type": "code",
   "execution_count": 121,
   "metadata": {},
   "outputs": [
    {
     "data": {
      "text/plain": [
       "'**В начале войны Москва будто застыла. Спустя полтора года это уже не тот город, что мы знали до 24 февраля 2022-го. Продолжение **[**фотопроекта](https://meduza.io/feature/2023/06/15/v-nachale-voyny-moskva-budto-zastyla-spustya-poltora-goda-eto-uzhe-ne-tot-gorod-chto-my-znali-do-24-fevralya-2022-go)**** Александра Гронского\\n\\n**Александр Гронский\\xa0— один из\\xa0самых известных российских пейзажных фотографов. После начала полномасштабной войны он остался в России, чтобы фиксировать, как менялись облик и атмосфера в стране. Те перемены практически невозможно было увидеть — но за снимками Гронского будто чувствовалось все, что мы пережили к тому моменту: 24 февраля, Буча, удары по драмтеатру и роддому в Мариуполе.\\n\\nГод назад «Медуза» опубликовала [первую часть](https://meduza.io/feature/2022/06/18/poka-rossiya-pytaetsya-okkupirovat-ukrainu-fotograf-aleksandr-gronskiy-snimaet-peyzazhi-moskvy) фотопроекта Гронского — сейчас, когда у нас за плечами почти полтора года войны, фотограф выпускает его продолжение. На новых кадрах — знакомая Москва. Но в чем-то узнать ее становится все тяжелее.\\n\\nВторая часть фотопроекта Александра Гронского о Москве военного времени вышла на сайте кооператива независимых журналистов «Берег». С разрешения кооператива «Медуза» [публикует](https://meduza.io/feature/2023/06/15/v-nachale-voyny-moskva-budto-zastyla-spustya-poltora-goda-eto-uzhe-ne-tot-gorod-chto-my-znali-do-24-fevralya-2022-go) этот материал.'"
      ]
     },
     "execution_count": 121,
     "metadata": {},
     "output_type": "execute_result"
    }
   ],
   "source": [
    "posts['text'][unhandled_posts[0]]"
   ]
  },
  {
   "cell_type": "markdown",
   "metadata": {},
   "source": [
    "## Вывод: \n",
    "Как видно наша модель смогла класифицировать практически все записи, а те которые она не смогла классифицировать являются аномальными.\n",
    "## Проведем анализ каждого класса"
   ]
  },
  {
   "cell_type": "code",
   "execution_count": 122,
   "metadata": {},
   "outputs": [
    {
     "data": {
      "text/html": [
       "<div>\n",
       "<style scoped>\n",
       "    .dataframe tbody tr th:only-of-type {\n",
       "        vertical-align: middle;\n",
       "    }\n",
       "\n",
       "    .dataframe tbody tr th {\n",
       "        vertical-align: top;\n",
       "    }\n",
       "\n",
       "    .dataframe thead th {\n",
       "        text-align: right;\n",
       "    }\n",
       "</style>\n",
       "<table border=\"1\" class=\"dataframe\">\n",
       "  <thead>\n",
       "    <tr style=\"text-align: right;\">\n",
       "      <th></th>\n",
       "      <th>id</th>\n",
       "      <th>telegram_id</th>\n",
       "      <th>text</th>\n",
       "      <th>datetime</th>\n",
       "      <th>category_id</th>\n",
       "      <th>channel_id</th>\n",
       "      <th>title</th>\n",
       "      <th>Unnamed: 7</th>\n",
       "      <th>Unnamed: 8</th>\n",
       "      <th>Unnamed: 9</th>\n",
       "      <th>Label</th>\n",
       "    </tr>\n",
       "  </thead>\n",
       "  <tbody>\n",
       "    <tr>\n",
       "      <th>0</th>\n",
       "      <td>1</td>\n",
       "      <td>157314</td>\n",
       "      <td>❗️Восстановление аммиакопровода Тольятти — Оде...</td>\n",
       "      <td>2023-06-07 11:40:06</td>\n",
       "      <td>NaN</td>\n",
       "      <td>-1001394050290</td>\n",
       "      <td>Восстановление аммиакопровода займет до 3 меся...</td>\n",
       "      <td>NaN</td>\n",
       "      <td>NaN</td>\n",
       "      <td>NaN</td>\n",
       "      <td>Политика</td>\n",
       "    </tr>\n",
       "    <tr>\n",
       "      <th>1</th>\n",
       "      <td>2</td>\n",
       "      <td>18940</td>\n",
       "      <td>Дополнительные 39 миллионов рублей были выделе...</td>\n",
       "      <td>2023-06-07 11:34:56</td>\n",
       "      <td>NaN</td>\n",
       "      <td>-1001098860759</td>\n",
       "      <td>Выделены дополнительные 39 млн рублей на соцуч...</td>\n",
       "      <td>NaN</td>\n",
       "      <td>NaN</td>\n",
       "      <td>NaN</td>\n",
       "      <td>Финансы</td>\n",
       "    </tr>\n",
       "    <tr>\n",
       "      <th>2</th>\n",
       "      <td>3</td>\n",
       "      <td>4868</td>\n",
       "      <td>«Россия уничтожена санкциями»\\n               ...</td>\n",
       "      <td>2023-06-07 11:03:05</td>\n",
       "      <td>NaN</td>\n",
       "      <td>-1001797434593</td>\n",
       "      <td>«Россия уничтожена санкциями»\\n               ...</td>\n",
       "      <td>NaN</td>\n",
       "      <td>NaN</td>\n",
       "      <td>NaN</td>\n",
       "      <td>Политика</td>\n",
       "    </tr>\n",
       "    <tr>\n",
       "      <th>3</th>\n",
       "      <td>4</td>\n",
       "      <td>157315</td>\n",
       "      <td>❗️Правоохранители провели обыски в министерств...</td>\n",
       "      <td>2023-06-07 11:50:06</td>\n",
       "      <td>NaN</td>\n",
       "      <td>-1001394050290</td>\n",
       "      <td>Обыски в минобразования Дагестана по делу о вы...</td>\n",
       "      <td>NaN</td>\n",
       "      <td>NaN</td>\n",
       "      <td>NaN</td>\n",
       "      <td>Образовательный контент</td>\n",
       "    </tr>\n",
       "    <tr>\n",
       "      <th>4</th>\n",
       "      <td>16</td>\n",
       "      <td>157317</td>\n",
       "      <td>Реконструкция пропускного пункта \"Верхний Ларс...</td>\n",
       "      <td>2023-06-07 12:10:25</td>\n",
       "      <td>NaN</td>\n",
       "      <td>-1001394050290</td>\n",
       "      <td>Реконструкция пропускного пункта \"Верхний Ларс...</td>\n",
       "      <td>NaN</td>\n",
       "      <td>NaN</td>\n",
       "      <td>NaN</td>\n",
       "      <td>Технологии</td>\n",
       "    </tr>\n",
       "  </tbody>\n",
       "</table>\n",
       "</div>"
      ],
      "text/plain": [
       "   id telegram_id                                               text  \\\n",
       "0   1      157314  ❗️Восстановление аммиакопровода Тольятти — Оде...   \n",
       "1   2       18940  Дополнительные 39 миллионов рублей были выделе...   \n",
       "2   3        4868  «Россия уничтожена санкциями»\\n               ...   \n",
       "3   4      157315  ❗️Правоохранители провели обыски в министерств...   \n",
       "4  16      157317  Реконструкция пропускного пункта \"Верхний Ларс...   \n",
       "\n",
       "              datetime category_id      channel_id  \\\n",
       "0  2023-06-07 11:40:06         NaN  -1001394050290   \n",
       "1  2023-06-07 11:34:56         NaN  -1001098860759   \n",
       "2  2023-06-07 11:03:05         NaN  -1001797434593   \n",
       "3  2023-06-07 11:50:06         NaN  -1001394050290   \n",
       "4  2023-06-07 12:10:25         NaN  -1001394050290   \n",
       "\n",
       "                                               title Unnamed: 7 Unnamed: 8  \\\n",
       "0  Восстановление аммиакопровода займет до 3 меся...        NaN        NaN   \n",
       "1  Выделены дополнительные 39 млн рублей на соцуч...        NaN        NaN   \n",
       "2  «Россия уничтожена санкциями»\\n               ...        NaN        NaN   \n",
       "3  Обыски в минобразования Дагестана по делу о вы...        NaN        NaN   \n",
       "4  Реконструкция пропускного пункта \"Верхний Ларс...        NaN        NaN   \n",
       "\n",
       "  Unnamed: 9                    Label  \n",
       "0        NaN                 Политика  \n",
       "1        NaN                  Финансы  \n",
       "2        NaN                 Политика  \n",
       "3        NaN  Образовательный контент  \n",
       "4        NaN               Технологии  "
      ]
     },
     "execution_count": 122,
     "metadata": {},
     "output_type": "execute_result"
    }
   ],
   "source": [
    "labels = pd.read_csv('../data/labels.csv')\n",
    "posts['Label'] = labels['Label']\n",
    "posts.head()"
   ]
  },
  {
   "cell_type": "markdown",
   "metadata": {},
   "source": [
    "Удалим все ненужные стобцы, оставив только стобцы 'text' и 'Label'"
   ]
  },
  {
   "cell_type": "code",
   "execution_count": 123,
   "metadata": {},
   "outputs": [
    {
     "data": {
      "text/html": [
       "<div>\n",
       "<style scoped>\n",
       "    .dataframe tbody tr th:only-of-type {\n",
       "        vertical-align: middle;\n",
       "    }\n",
       "\n",
       "    .dataframe tbody tr th {\n",
       "        vertical-align: top;\n",
       "    }\n",
       "\n",
       "    .dataframe thead th {\n",
       "        text-align: right;\n",
       "    }\n",
       "</style>\n",
       "<table border=\"1\" class=\"dataframe\">\n",
       "  <thead>\n",
       "    <tr style=\"text-align: right;\">\n",
       "      <th></th>\n",
       "      <th>text</th>\n",
       "      <th>Label</th>\n",
       "    </tr>\n",
       "  </thead>\n",
       "  <tbody>\n",
       "    <tr>\n",
       "      <th>0</th>\n",
       "      <td>❗️Восстановление аммиакопровода Тольятти — Оде...</td>\n",
       "      <td>Политика</td>\n",
       "    </tr>\n",
       "    <tr>\n",
       "      <th>1</th>\n",
       "      <td>Дополнительные 39 миллионов рублей были выделе...</td>\n",
       "      <td>Финансы</td>\n",
       "    </tr>\n",
       "    <tr>\n",
       "      <th>2</th>\n",
       "      <td>«Россия уничтожена санкциями»\\n               ...</td>\n",
       "      <td>Политика</td>\n",
       "    </tr>\n",
       "    <tr>\n",
       "      <th>3</th>\n",
       "      <td>❗️Правоохранители провели обыски в министерств...</td>\n",
       "      <td>Образовательный контент</td>\n",
       "    </tr>\n",
       "    <tr>\n",
       "      <th>4</th>\n",
       "      <td>Реконструкция пропускного пункта \"Верхний Ларс...</td>\n",
       "      <td>Технологии</td>\n",
       "    </tr>\n",
       "  </tbody>\n",
       "</table>\n",
       "</div>"
      ],
      "text/plain": [
       "                                                text                    Label\n",
       "0  ❗️Восстановление аммиакопровода Тольятти — Оде...                 Политика\n",
       "1  Дополнительные 39 миллионов рублей были выделе...                  Финансы\n",
       "2  «Россия уничтожена санкциями»\\n               ...                 Политика\n",
       "3  ❗️Правоохранители провели обыски в министерств...  Образовательный контент\n",
       "4  Реконструкция пропускного пункта \"Верхний Ларс...               Технологии"
      ]
     },
     "execution_count": 123,
     "metadata": {},
     "output_type": "execute_result"
    }
   ],
   "source": [
    "posts = posts[['text', 'Label']]\n",
    "posts.head()"
   ]
  },
  {
   "cell_type": "code",
   "execution_count": 124,
   "metadata": {},
   "outputs": [
    {
     "data": {
      "text/plain": [
       "Label\n",
       "Технологии                        43858\n",
       "Политика                          37938\n",
       "Образовательный контент           16576\n",
       "Развлечения                       14454\n",
       "Fashion                           12289\n",
       "Финансы                           10375\n",
       "Общее                              6484\n",
       "Путешествия/релокация              4716\n",
       "Шоубиз                             3648\n",
       "Крипта                             1186\n",
       "не получилось классифицировать        7\n",
       "Name: count, dtype: int64"
      ]
     },
     "execution_count": 124,
     "metadata": {},
     "output_type": "execute_result"
    }
   ],
   "source": [
    "posts['Label'].value_counts()"
   ]
  },
  {
   "cell_type": "markdown",
   "metadata": {},
   "source": [
    "Удалим записи с Label 'не получилось классифицировать'"
   ]
  },
  {
   "cell_type": "code",
   "execution_count": 125,
   "metadata": {},
   "outputs": [
    {
     "data": {
      "text/plain": [
       "Label\n",
       "Технологии                 43858\n",
       "Политика                   37938\n",
       "Образовательный контент    16576\n",
       "Развлечения                14454\n",
       "Fashion                    12289\n",
       "Финансы                    10375\n",
       "Общее                       6484\n",
       "Путешествия/релокация       4716\n",
       "Шоубиз                      3648\n",
       "Крипта                      1186\n",
       "Name: count, dtype: int64"
      ]
     },
     "execution_count": 125,
     "metadata": {},
     "output_type": "execute_result"
    }
   ],
   "source": [
    "posts = posts.where(posts['Label'] != 'не получилось классифицировать')\n",
    "posts['Label'].value_counts()"
   ]
  },
  {
   "cell_type": "code",
   "execution_count": 126,
   "metadata": {},
   "outputs": [
    {
     "data": {
      "text/plain": [
       "'Экс-депутата белгородского горсовета Сергея Фуглаева (представлял «Единую Россию) приговорили к\\xa05,5 года колонии, его признали виновным в\\xa0мошенничестве и\\xa0обмане налоговой. „Я\\xa0прошу, простите меня, пожалуйста, я\\xa0очень сильно виноват. Я\\xa0клянусь, что я\\xa0больше никогда не\\xa0нарушу закон“,\\xa0— сказал он\\xa0в\\xa0последнем слове,\\xa0— [Бел.ру](https://t.me/IABelRu/25862).'"
      ]
     },
     "execution_count": 126,
     "metadata": {},
     "output_type": "execute_result"
    }
   ],
   "source": [
    "posts['text'].iloc[140134]"
   ]
  },
  {
   "cell_type": "code",
   "execution_count": 127,
   "metadata": {},
   "outputs": [
    {
     "data": {
      "text/plain": [
       "'Политика'"
      ]
     },
     "execution_count": 127,
     "metadata": {},
     "output_type": "execute_result"
    }
   ],
   "source": [
    "posts['Label'].iloc[140134]"
   ]
  },
  {
   "cell_type": "markdown",
   "metadata": {},
   "source": [
    "Сохраним полученный датасет, чтобы использовать его как финальный для сосздания конечного pipeline."
   ]
  },
  {
   "cell_type": "code",
   "execution_count": 131,
   "metadata": {},
   "outputs": [],
   "source": [
    "posts.to_csv('../data/final_data.csv.gz', compression='gzip', index=False)"
   ]
  },
  {
   "cell_type": "code",
   "execution_count": 132,
   "metadata": {},
   "outputs": [
    {
     "data": {
      "text/html": [
       "<div>\n",
       "<style scoped>\n",
       "    .dataframe tbody tr th:only-of-type {\n",
       "        vertical-align: middle;\n",
       "    }\n",
       "\n",
       "    .dataframe tbody tr th {\n",
       "        vertical-align: top;\n",
       "    }\n",
       "\n",
       "    .dataframe thead th {\n",
       "        text-align: right;\n",
       "    }\n",
       "</style>\n",
       "<table border=\"1\" class=\"dataframe\">\n",
       "  <thead>\n",
       "    <tr style=\"text-align: right;\">\n",
       "      <th></th>\n",
       "      <th>text</th>\n",
       "      <th>Label</th>\n",
       "    </tr>\n",
       "  </thead>\n",
       "  <tbody>\n",
       "    <tr>\n",
       "      <th>0</th>\n",
       "      <td>❗️Восстановление аммиакопровода Тольятти — Оде...</td>\n",
       "      <td>Политика</td>\n",
       "    </tr>\n",
       "    <tr>\n",
       "      <th>1</th>\n",
       "      <td>Дополнительные 39 миллионов рублей были выделе...</td>\n",
       "      <td>Финансы</td>\n",
       "    </tr>\n",
       "    <tr>\n",
       "      <th>2</th>\n",
       "      <td>«Россия уничтожена санкциями»\\n               ...</td>\n",
       "      <td>Политика</td>\n",
       "    </tr>\n",
       "    <tr>\n",
       "      <th>3</th>\n",
       "      <td>❗️Правоохранители провели обыски в министерств...</td>\n",
       "      <td>Образовательный контент</td>\n",
       "    </tr>\n",
       "    <tr>\n",
       "      <th>4</th>\n",
       "      <td>Реконструкция пропускного пункта \"Верхний Ларс...</td>\n",
       "      <td>Технологии</td>\n",
       "    </tr>\n",
       "  </tbody>\n",
       "</table>\n",
       "</div>"
      ],
      "text/plain": [
       "                                                text                    Label\n",
       "0  ❗️Восстановление аммиакопровода Тольятти — Оде...                 Политика\n",
       "1  Дополнительные 39 миллионов рублей были выделе...                  Финансы\n",
       "2  «Россия уничтожена санкциями»\\n               ...                 Политика\n",
       "3  ❗️Правоохранители провели обыски в министерств...  Образовательный контент\n",
       "4  Реконструкция пропускного пункта \"Верхний Ларс...               Технологии"
      ]
     },
     "execution_count": 132,
     "metadata": {},
     "output_type": "execute_result"
    }
   ],
   "source": [
    "pd.read_csv('../data/final_data.csv.gz', compression='gzip').head()"
   ]
  }
 ],
 "metadata": {
  "kernelspec": {
   "display_name": "venv",
   "language": "python",
   "name": "python3"
  },
  "language_info": {
   "codemirror_mode": {
    "name": "ipython",
    "version": 3
   },
   "file_extension": ".py",
   "mimetype": "text/x-python",
   "name": "python",
   "nbconvert_exporter": "python",
   "pygments_lexer": "ipython3",
   "version": "3.11.0"
  },
  "orig_nbformat": 4
 },
 "nbformat": 4,
 "nbformat_minor": 2
}
