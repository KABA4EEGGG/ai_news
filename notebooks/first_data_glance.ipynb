{
 "cells": [
  {
   "cell_type": "markdown",
   "metadata": {
    "collapsed": false,
    "pycharm": {
     "name": "#%% md\n"
    }
   },
   "source": [
    "## Work with data"
   ]
  },
  {
   "cell_type": "markdown",
   "metadata": {
    "collapsed": false,
    "pycharm": {
     "name": "#%% md\n"
    }
   },
   "source": [
    "### 1. Data loading"
   ]
  },
  {
   "cell_type": "code",
   "execution_count": 1,
   "metadata": {
    "collapsed": false,
    "pycharm": {
     "name": "#%%\n"
    }
   },
   "outputs": [],
   "source": [
    "import pandas as pd\n",
    "import numpy as np"
   ]
  },
  {
   "cell_type": "code",
   "execution_count": 2,
   "metadata": {
    "collapsed": false,
    "pycharm": {
     "name": "#%%\n"
    }
   },
   "outputs": [],
   "source": [
    "df_posts = pd.read_excel('../data/posts.xlsx')"
   ]
  },
  {
   "cell_type": "code",
   "execution_count": 3,
   "metadata": {
    "collapsed": false,
    "pycharm": {
     "name": "#%%\n"
    }
   },
   "outputs": [
    {
     "data": {
      "text/html": [
       "<div>\n",
       "<style scoped>\n",
       "    .dataframe tbody tr th:only-of-type {\n",
       "        vertical-align: middle;\n",
       "    }\n",
       "\n",
       "    .dataframe tbody tr th {\n",
       "        vertical-align: top;\n",
       "    }\n",
       "\n",
       "    .dataframe thead th {\n",
       "        text-align: right;\n",
       "    }\n",
       "</style>\n",
       "<table border=\"1\" class=\"dataframe\">\n",
       "  <thead>\n",
       "    <tr style=\"text-align: right;\">\n",
       "      <th></th>\n",
       "      <th>id</th>\n",
       "      <th>telegram_id</th>\n",
       "      <th>text</th>\n",
       "      <th>datetime</th>\n",
       "      <th>category_id</th>\n",
       "      <th>channel_id</th>\n",
       "      <th>title</th>\n",
       "      <th>Unnamed: 7</th>\n",
       "      <th>Unnamed: 8</th>\n",
       "      <th>Unnamed: 9</th>\n",
       "    </tr>\n",
       "  </thead>\n",
       "  <tbody>\n",
       "    <tr>\n",
       "      <th>0</th>\n",
       "      <td>1</td>\n",
       "      <td>157314</td>\n",
       "      <td>❗️Восстановление аммиакопровода Тольятти — Оде...</td>\n",
       "      <td>2023-06-07 11:40:06</td>\n",
       "      <td>NaN</td>\n",
       "      <td>-1001394050290</td>\n",
       "      <td>Восстановление аммиакопровода займет до 3 меся...</td>\n",
       "      <td>NaN</td>\n",
       "      <td>NaN</td>\n",
       "      <td>NaN</td>\n",
       "    </tr>\n",
       "    <tr>\n",
       "      <th>1</th>\n",
       "      <td>2</td>\n",
       "      <td>18940</td>\n",
       "      <td>Дополнительные 39 миллионов рублей были выделе...</td>\n",
       "      <td>2023-06-07 11:34:56</td>\n",
       "      <td>NaN</td>\n",
       "      <td>-1001098860759</td>\n",
       "      <td>Выделены дополнительные 39 млн рублей на соцуч...</td>\n",
       "      <td>NaN</td>\n",
       "      <td>NaN</td>\n",
       "      <td>NaN</td>\n",
       "    </tr>\n",
       "    <tr>\n",
       "      <th>2</th>\n",
       "      <td>3</td>\n",
       "      <td>4868</td>\n",
       "      <td>«Россия уничтожена санкциями»\\n               ...</td>\n",
       "      <td>2023-06-07 11:03:05</td>\n",
       "      <td>NaN</td>\n",
       "      <td>-1001797434593</td>\n",
       "      <td>«Россия уничтожена санкциями»\\n               ...</td>\n",
       "      <td>NaN</td>\n",
       "      <td>NaN</td>\n",
       "      <td>NaN</td>\n",
       "    </tr>\n",
       "    <tr>\n",
       "      <th>3</th>\n",
       "      <td>4</td>\n",
       "      <td>157315</td>\n",
       "      <td>❗️Правоохранители провели обыски в министерств...</td>\n",
       "      <td>2023-06-07 11:50:06</td>\n",
       "      <td>NaN</td>\n",
       "      <td>-1001394050290</td>\n",
       "      <td>Обыски в минобразования Дагестана по делу о вы...</td>\n",
       "      <td>NaN</td>\n",
       "      <td>NaN</td>\n",
       "      <td>NaN</td>\n",
       "    </tr>\n",
       "    <tr>\n",
       "      <th>4</th>\n",
       "      <td>16</td>\n",
       "      <td>157317</td>\n",
       "      <td>Реконструкция пропускного пункта \"Верхний Ларс...</td>\n",
       "      <td>2023-06-07 12:10:25</td>\n",
       "      <td>NaN</td>\n",
       "      <td>-1001394050290</td>\n",
       "      <td>Реконструкция пропускного пункта \"Верхний Ларс...</td>\n",
       "      <td>NaN</td>\n",
       "      <td>NaN</td>\n",
       "      <td>NaN</td>\n",
       "    </tr>\n",
       "  </tbody>\n",
       "</table>\n",
       "</div>"
      ],
      "text/plain": [
       "   id telegram_id                                               text  \\\n",
       "0   1      157314  ❗️Восстановление аммиакопровода Тольятти — Оде...   \n",
       "1   2       18940  Дополнительные 39 миллионов рублей были выделе...   \n",
       "2   3        4868  «Россия уничтожена санкциями»\\n               ...   \n",
       "3   4      157315  ❗️Правоохранители провели обыски в министерств...   \n",
       "4  16      157317  Реконструкция пропускного пункта \"Верхний Ларс...   \n",
       "\n",
       "              datetime category_id      channel_id  \\\n",
       "0  2023-06-07 11:40:06         NaN  -1001394050290   \n",
       "1  2023-06-07 11:34:56         NaN  -1001098860759   \n",
       "2  2023-06-07 11:03:05         NaN  -1001797434593   \n",
       "3  2023-06-07 11:50:06         NaN  -1001394050290   \n",
       "4  2023-06-07 12:10:25         NaN  -1001394050290   \n",
       "\n",
       "                                               title Unnamed: 7 Unnamed: 8  \\\n",
       "0  Восстановление аммиакопровода займет до 3 меся...        NaN        NaN   \n",
       "1  Выделены дополнительные 39 млн рублей на соцуч...        NaN        NaN   \n",
       "2  «Россия уничтожена санкциями»\\n               ...        NaN        NaN   \n",
       "3  Обыски в минобразования Дагестана по делу о вы...        NaN        NaN   \n",
       "4  Реконструкция пропускного пункта \"Верхний Ларс...        NaN        NaN   \n",
       "\n",
       "  Unnamed: 9  \n",
       "0        NaN  \n",
       "1        NaN  \n",
       "2        NaN  \n",
       "3        NaN  \n",
       "4        NaN  "
      ]
     },
     "execution_count": 3,
     "metadata": {},
     "output_type": "execute_result"
    }
   ],
   "source": [
    "df_posts.head()"
   ]
  },
  {
   "cell_type": "code",
   "execution_count": 4,
   "metadata": {},
   "outputs": [
    {
     "data": {
      "text/plain": [
       "(169881, 10)"
      ]
     },
     "execution_count": 4,
     "metadata": {},
     "output_type": "execute_result"
    }
   ],
   "source": [
    "df_posts.shape"
   ]
  },
  {
   "cell_type": "code",
   "execution_count": 5,
   "metadata": {},
   "outputs": [
    {
     "data": {
      "text/plain": [
       "(148224,)"
      ]
     },
     "execution_count": 5,
     "metadata": {},
     "output_type": "execute_result"
    }
   ],
   "source": [
    "df_posts['title'].value_counts().shape"
   ]
  },
  {
   "cell_type": "code",
   "execution_count": 6,
   "metadata": {},
   "outputs": [
    {
     "data": {
      "text/plain": [
       "(157940,)"
      ]
     },
     "execution_count": 6,
     "metadata": {},
     "output_type": "execute_result"
    }
   ],
   "source": [
    "df_posts['text'].value_counts().shape"
   ]
  },
  {
   "cell_type": "code",
   "execution_count": 7,
   "metadata": {},
   "outputs": [],
   "source": [
    "df_ai_bot = pd.read_excel('../data/ai_bot_app_post.xls')"
   ]
  },
  {
   "cell_type": "code",
   "execution_count": 8,
   "metadata": {},
   "outputs": [
    {
     "data": {
      "text/html": [
       "<div>\n",
       "<style scoped>\n",
       "    .dataframe tbody tr th:only-of-type {\n",
       "        vertical-align: middle;\n",
       "    }\n",
       "\n",
       "    .dataframe tbody tr th {\n",
       "        vertical-align: top;\n",
       "    }\n",
       "\n",
       "    .dataframe thead th {\n",
       "        text-align: right;\n",
       "    }\n",
       "</style>\n",
       "<table border=\"1\" class=\"dataframe\">\n",
       "  <thead>\n",
       "    <tr style=\"text-align: right;\">\n",
       "      <th></th>\n",
       "      <th>user_id</th>\n",
       "      <th>telegram_id</th>\n",
       "      <th>text</th>\n",
       "      <th>title</th>\n",
       "    </tr>\n",
       "  </thead>\n",
       "  <tbody>\n",
       "    <tr>\n",
       "      <th>0</th>\n",
       "      <td>1</td>\n",
       "      <td>157314</td>\n",
       "      <td>❗️Восстановление аммиакопровода Тольятти — Оде...</td>\n",
       "      <td>Восстановление аммиакопровода займет до 3 меся...</td>\n",
       "    </tr>\n",
       "    <tr>\n",
       "      <th>1</th>\n",
       "      <td>2</td>\n",
       "      <td>18940</td>\n",
       "      <td>Дополнительные 39 миллионов рублей были выделе...</td>\n",
       "      <td>Выделены дополнительные 39 млн рублей на соцуч...</td>\n",
       "    </tr>\n",
       "    <tr>\n",
       "      <th>2</th>\n",
       "      <td>3</td>\n",
       "      <td>4868</td>\n",
       "      <td>«Россия уничтожена санкциями»\\n               ...</td>\n",
       "      <td>«Россия уничтожена санкциями»\\n               ...</td>\n",
       "    </tr>\n",
       "    <tr>\n",
       "      <th>3</th>\n",
       "      <td>4</td>\n",
       "      <td>157315</td>\n",
       "      <td>❗️Правоохранители провели обыски в министерств...</td>\n",
       "      <td>Обыски в минобразования Дагестана по делу о вы...</td>\n",
       "    </tr>\n",
       "    <tr>\n",
       "      <th>4</th>\n",
       "      <td>16</td>\n",
       "      <td>157317</td>\n",
       "      <td>Реконструкция пропускного пункта \"Верхний Ларс...</td>\n",
       "      <td>Реконструкция пропускного пункта \"Верхний Ларс...</td>\n",
       "    </tr>\n",
       "  </tbody>\n",
       "</table>\n",
       "</div>"
      ],
      "text/plain": [
       "   user_id  telegram_id                                               text  \\\n",
       "0        1       157314  ❗️Восстановление аммиакопровода Тольятти — Оде...   \n",
       "1        2        18940  Дополнительные 39 миллионов рублей были выделе...   \n",
       "2        3         4868  «Россия уничтожена санкциями»\\n               ...   \n",
       "3        4       157315  ❗️Правоохранители провели обыски в министерств...   \n",
       "4       16       157317  Реконструкция пропускного пункта \"Верхний Ларс...   \n",
       "\n",
       "                                               title  \n",
       "0  Восстановление аммиакопровода займет до 3 меся...  \n",
       "1  Выделены дополнительные 39 млн рублей на соцуч...  \n",
       "2  «Россия уничтожена санкциями»\\n               ...  \n",
       "3  Обыски в минобразования Дагестана по делу о вы...  \n",
       "4  Реконструкция пропускного пункта \"Верхний Ларс...  "
      ]
     },
     "execution_count": 8,
     "metadata": {},
     "output_type": "execute_result"
    }
   ],
   "source": [
    "df_ai_bot.head()"
   ]
  },
  {
   "cell_type": "code",
   "execution_count": 9,
   "metadata": {},
   "outputs": [
    {
     "data": {
      "text/plain": [
       "(88182, 4)"
      ]
     },
     "execution_count": 9,
     "metadata": {},
     "output_type": "execute_result"
    }
   ],
   "source": [
    "df_ai_bot.shape"
   ]
  },
  {
   "cell_type": "code",
   "execution_count": 10,
   "metadata": {},
   "outputs": [
    {
     "data": {
      "text/plain": [
       "(72687,)"
      ]
     },
     "execution_count": 10,
     "metadata": {},
     "output_type": "execute_result"
    }
   ],
   "source": [
    "df_ai_bot['title'].value_counts().shape"
   ]
  },
  {
   "cell_type": "code",
   "execution_count": 11,
   "metadata": {},
   "outputs": [
    {
     "data": {
      "text/plain": [
       "(76442,)"
      ]
     },
     "execution_count": 11,
     "metadata": {},
     "output_type": "execute_result"
    }
   ],
   "source": [
    "df_ai_bot['text'].value_counts().shape"
   ]
  },
  {
   "cell_type": "code",
   "execution_count": 12,
   "metadata": {},
   "outputs": [
    {
     "data": {
      "text/plain": [
       "0         ❗️Восстановление аммиакопровода Тольятти — Оде...\n",
       "1         Дополнительные 39 миллионов рублей были выделе...\n",
       "2         «Россия уничтожена санкциями»\\n               ...\n",
       "3         ❗️Правоохранители провели обыски в министерств...\n",
       "4         Реконструкция пропускного пункта \"Верхний Ларс...\n",
       "                                ...                        \n",
       "169876    **ФСБ добилась круглосуточного доступа к данны...\n",
       "169877    Редкие фото несработавшей ракеты американского...\n",
       "169878    👩‍🎨**Самый главный конкурент Midjourney обнови...\n",
       "169879    «А вы с майонезом не борщите и тогда платья бу...\n",
       "169880    💥Яркие подворья финалистов \"Властелина села\" и...\n",
       "Name: text, Length: 169881, dtype: object"
      ]
     },
     "execution_count": 12,
     "metadata": {},
     "output_type": "execute_result"
    }
   ],
   "source": [
    "df_posts['text']"
   ]
  },
  {
   "cell_type": "code",
   "execution_count": 13,
   "metadata": {},
   "outputs": [
    {
     "data": {
      "text/plain": [
       "'❗️Восстановление аммиакопровода Тольятти — Одесса займет от 1 до 3 месяцев при наличии доступа к объекту, заявили в МИД РФ.\\n\\nВ ведомстве отметили, что Россия предпримет усилия для выяснения обстоятельств подрыва аммиакопровода.'"
      ]
     },
     "execution_count": 13,
     "metadata": {},
     "output_type": "execute_result"
    }
   ],
   "source": [
    "df_posts['text'][0]"
   ]
  },
  {
   "cell_type": "code",
   "execution_count": 14,
   "metadata": {},
   "outputs": [
    {
     "data": {
      "text/plain": [
       "'❗️Восстановление аммиакопровода Тольятти — Одесса займет от 1 до 3 месяцев при наличии доступа к объекту, заявили в МИД РФ.\\n\\nВ ведомстве отметили, что Россия предпримет усилия для выяснения обстоятельств подрыва аммиакопровода.'"
      ]
     },
     "execution_count": 14,
     "metadata": {},
     "output_type": "execute_result"
    }
   ],
   "source": [
    "df_ai_bot['text'][0]"
   ]
  },
  {
   "cell_type": "code",
   "execution_count": 15,
   "metadata": {},
   "outputs": [
    {
     "data": {
      "text/plain": [
       "'В Академии военных наук России сказали, кто будет принимать решение об использовании размещенного в Беларуси ядерного оружия.\\n\\nНе Лукашенко.\\n\\nhttps://news.zerkalo.io/economics/42670.html?tg\\n\\nНе открывается ссылка? [Попробуйте эту](https://z-e-r-k-a-l-o.live/news/economics/42670.html?tg) или скачайте наше приложение для [Android](https://play.google.com/store/apps/details?id=by.tut.android&hl=ru) или [iOS](https://apps.apple.com/app/%D0%BD%D0%BE%D0%B2%D0%BE%D1%81%D1%82%D0%B8-%D0%B1%D0%B5%D0%BB%D0%B0%D1%80%D1%83%D1%81%D0%B8-%D0%B8-%D0%BC%D0%B8%D1%80%D0%B0-tut-by/id756761916).'"
      ]
     },
     "execution_count": 15,
     "metadata": {},
     "output_type": "execute_result"
    }
   ],
   "source": [
    "df_posts['text'][56343]"
   ]
  },
  {
   "cell_type": "code",
   "execution_count": 16,
   "metadata": {},
   "outputs": [
    {
     "data": {
      "text/plain": [
       "'**Автора телеграм-канала «Настоящее преступление» Руслана Ушакова **[**приговорили](https://t.me/sotavisionmedia/16016)**** к восьми годам колонии**\\n\\nУшакова осудили по статьям о военных «фейках», реабилитации нацизма, оправдании терроризма и возбуждении ненависти. Прокуратура запрашивала для него девять лет лишения свободы.\\n\\nВ публикациях канала «Настоящее преступление» говорилось об обстрелах Мариуполя, убийствах мирных жителей в Украине — а также содержались призывы к насилию в отношении Владимира Путина.'"
      ]
     },
     "execution_count": 16,
     "metadata": {},
     "output_type": "execute_result"
    }
   ],
   "source": [
    "df_ai_bot['text'][56343]"
   ]
  },
  {
   "cell_type": "markdown",
   "metadata": {},
   "source": [
    "# Выводы: \n",
    "\n",
    "Взглянув на поля ai_bot_app_posts.xls и posts.xlsx, эмпирическим путем мы выяснили, \n",
    "\n",
    "что записи ai_bot_app_posts.xls являются подмножеством записей posts.xlsx. \n",
    "\n",
    "Следовательно, в дальнейшем будет использоваться только posts.xlsx."
   ]
  }
 ],
 "metadata": {
  "kernelspec": {
   "display_name": "Python 3",
   "language": "python",
   "name": "python3"
  },
  "language_info": {
   "codemirror_mode": {
    "name": "ipython",
    "version": 3
   },
   "file_extension": ".py",
   "mimetype": "text/x-python",
   "name": "python",
   "nbconvert_exporter": "python",
   "pygments_lexer": "ipython3",
   "version": "3.11.0"
  }
 },
 "nbformat": 4,
 "nbformat_minor": 0
}
